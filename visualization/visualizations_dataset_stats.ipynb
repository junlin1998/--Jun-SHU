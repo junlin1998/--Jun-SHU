{
 "cells": [
  {
   "cell_type": "markdown",
   "metadata": {},
   "source": [
    "# 数据集统计结果"
   ]
  },
  {
   "cell_type": "code",
   "execution_count": 1,
   "metadata": {},
   "outputs": [
    {
     "name": "stdout",
     "output_type": "stream",
     "text": [
      "/data/benchmarking-gnns\n"
     ]
    }
   ],
   "source": [
    "import os\n",
    "os.chdir('../') # 当前项目的根目录\n",
    "print(os.getcwd())"
   ]
  },
  {
   "cell_type": "code",
   "execution_count": 7,
   "metadata": {},
   "outputs": [],
   "source": [
    "\"\"\"\n",
    "    IMPORTING LIBS\n",
    "\"\"\"\n",
    "import numpy as np\n",
    "import socket\n",
    "import time\n",
    "\n",
    "from torch.utils.data import DataLoader\n",
    "\n",
    "import matplotlib.pyplot as plt"
   ]
  },
  {
   "cell_type": "code",
   "execution_count": 8,
   "metadata": {},
   "outputs": [],
   "source": [
    "from data.data import LoadData # import dataset"
   ]
  },
  {
   "cell_type": "markdown",
   "metadata": {},
   "source": [
    "## 1. TU数据集统计可视化（D&D）"
   ]
  },
  {
   "cell_type": "code",
   "execution_count": 62,
   "metadata": {},
   "outputs": [],
   "source": [
    "def visualize_TUs_data(DATASET_NAME):\n",
    "    print(\"[I] Loading data (notebook) ...\")\n",
    "    dataset = LoadData(DATASET_NAME)\n",
    "    trainset, valset, testset = dataset.train, dataset.val, dataset.test\n",
    "    print(\"[I] Finished loading.\")\n",
    "\n",
    "    # Original Statistics\n",
    "    num_nodes, graph_labels = [], []\n",
    "    for split in [dataset.train, dataset.test, dataset.val]:\n",
    "        num_nodes += [g.number_of_nodes() for g in split[0][:][0]]\n",
    "        graph_labels += split[0][:][1]\n",
    "    orig_mean, orig_std, orig_max, orig_min = np.mean(num_nodes), np.std(num_nodes), np.max(num_nodes), np.min(num_nodes)\n",
    "\n",
    "    max_nodes = int(orig_mean+orig_std)\n",
    "    print(\"Original Dataset Statistics:\\n\")\n",
    "    print(\"Max nodes {}, Min nodes {}\\n\".format(orig_max, orig_min))\n",
    "    print(\"Mean no. of nodes {}, S.d. {}\\n\".format(orig_mean, orig_std))\n",
    "\n",
    "    num_nodes, graph_labels = [], []\n",
    "    for split in [dataset.train, dataset.test, dataset.val]:\n",
    "        split_num_nodes, split_graph_labels = [], []\n",
    "        g = split[0][:][0]\n",
    "        lab = split[0][:][1]\n",
    "        for idx in range(len(g)):\n",
    "            if g[idx].number_of_nodes() < max_nodes:\n",
    "                split_num_nodes.append(g[idx].number_of_nodes())\n",
    "                split_graph_labels.append(lab[idx])\n",
    "\n",
    "\n",
    "        num_nodes += split_num_nodes\n",
    "        graph_labels += split_graph_labels\n",
    "    label_bins = len(np.unique(graph_labels))\n",
    "    \n",
    "    print(\"VISUALIZATIONS:\\nMax nodes in consideration: {}\".format(max_nodes))\n",
    "    plt.figure(figsize=(12, 5))\n",
    "    plt.subplot(121)\n",
    "    \n",
    "    plt.hist(num_nodes, bins=len(np.unique(num_nodes)))\n",
    "    plt.xlabel('Number of Nodes in Graph', fontsize=12)\n",
    "    plt.ylabel('Count', fontsize=12)\n",
    "    \n",
    "    plt.subplot(122)\n",
    "    plt.hist2d(graph_labels, num_nodes, bins=[label_bins, 20])\n",
    "    plt.xlabel(r'Graph label', fontsize=12)\n",
    "    plt.ylabel(r'Graph size (number of nodes)', fontsize=12)\n",
    "    plt.colorbar()\n",
    "    plt.show()\n",
    "    \n",
    "    print(\"Correlation between graph size (number of nodes) and labels: %.2f\" % np.corrcoef(graph_labels, num_nodes)[0,1])"
   ]
  },
  {
   "cell_type": "markdown",
   "metadata": {},
   "source": [
    "### TU数据集：D&D"
   ]
  },
  {
   "cell_type": "code",
   "execution_count": 64,
   "metadata": {},
   "outputs": [
    {
     "name": "stdout",
     "output_type": "stream",
     "text": [
      "[I] Loading data (notebook) ...\n",
      "No Node Attribute Data\n",
      "[!] Dataset:  DD\n",
      "Time taken: 10.4258s\n",
      "[I] Finished loading.\n",
      "Original Dataset Statistics:\n",
      "\n",
      "Max nodes 5748, Min nodes 30\n",
      "\n",
      "Mean no. of nodes 284.3166383701188, S.d. 271.99968930043167\n",
      "\n",
      "VISUALIZATIONS:\n",
      "Max nodes in consideration: 556\n"
     ]
    },
    {
     "data": {
      "image/png": "[encoded data removed]",
      "text/plain": [
       "<Figure size 864x360 with 3 Axes>"
      ]
     },
     "metadata": {
      "needs_background": "light"
     },
     "output_type": "display_data"
    },
    {
     "name": "stdout",
     "output_type": "stream",
     "text": [
      "Correlation between graph size (number of nodes) and labels: -0.51\n"
     ]
    }
   ],
   "source": [
    "visualize_TUs_data('DD')"
   ]
  },
  {
   "cell_type": "markdown",
   "metadata": {},
   "source": [
    "##  2.超像素数据集可视化"
   ]
  },
  {
   "cell_type": "code",
   "execution_count": 9,
   "metadata": {},
   "outputs": [],
   "source": [
    "def visualize_superpixels_data(DATASET_NAME):\n",
    "    print(\"[I] Loading data (notebook) ...\")\n",
    "    dataset = LoadData(DATASET_NAME)\n",
    "    trainset, valset, testset = dataset.train, dataset.val, dataset.test\n",
    "    print(\"[I] Finished loading.\")\n",
    "\n",
    "    # Original Statistics\n",
    "    num_nodes, graph_labels = [], []\n",
    "    for split in [dataset.train, dataset.test, dataset.val]:\n",
    "        num_nodes += [g.number_of_nodes() for g in split[:][0]]\n",
    "        graph_labels += list(split[:][1].numpy())\n",
    "    orig_mean, orig_std, orig_max, orig_min = np.mean(num_nodes), np.std(num_nodes), np.max(num_nodes), np.min(num_nodes)\n",
    "\n",
    "    max_nodes = int(orig_mean+orig_std)\n",
    "    print(\"Original Dataset Statistics:\\n\")\n",
    "    print(\"Max nodes {}, Min nodes {}\\n\".format(orig_max, orig_min))\n",
    "    print(\"Mean no. of nodes {}, S.d. {}\\n\".format(orig_mean, orig_std))\n",
    "\n",
    "    num_nodes, graph_labels = [], []\n",
    "    for split in [dataset.train, dataset.test, dataset.val]:\n",
    "        split_num_nodes, split_graph_labels = [], []\n",
    "        g = split[:][0]\n",
    "        lab = split[:][1]\n",
    "        for idx in range(len(g)):\n",
    "            if g[idx].number_of_nodes() < max_nodes:\n",
    "                split_num_nodes.append(g[idx].number_of_nodes())\n",
    "                split_graph_labels.append(lab[idx].item())\n",
    "\n",
    "\n",
    "        num_nodes += split_num_nodes\n",
    "        graph_labels += split_graph_labels\n",
    "    label_bins = len(np.unique(graph_labels))\n",
    "    \n",
    "    print(\"VISUALIZATIONS:\\nMax nodes in consideration: {}\".format(max_nodes))\n",
    "    plt.figure(figsize=(12, 5))\n",
    "    plt.subplot(121)\n",
    "    \n",
    "    plt.hist(num_nodes, bins=len(np.unique(num_nodes)))\n",
    "    plt.xlabel('Number of Nodes in Graph', fontsize=12)\n",
    "    plt.ylabel('Count', fontsize=12)\n",
    "    \n",
    "    plt.subplot(122)\n",
    "    plt.hist2d(graph_labels, num_nodes, bins=[label_bins, 20])\n",
    "    plt.xlabel(r'Graph label', fontsize=12)\n",
    "    plt.ylabel(r'Graph size (number of nodes)', fontsize=12)\n",
    "    plt.colorbar()\n",
    "    plt.show()"
   ]
  },
  {
   "cell_type": "code",
   "execution_count": 10,
   "metadata": {},
   "outputs": [
    {
     "name": "stdout",
     "output_type": "stream",
     "text": [
      "[I] Loading data (notebook) ...\n",
      "[I] Loading dataset covid19...\n",
      "train, test, val sizes : 5734 690 690\n",
      "[I] Finished loading.\n",
      "[I] Data load time: 8.2211s\n",
      "[I] Finished loading.\n"
     ]
    }
   ],
   "source": [
    "DATASET_NAME = 'covid19'\n",
    "\n",
    "print(\"[I] Loading data (notebook) ...\")\n",
    "dataset = LoadData(DATASET_NAME)\n",
    "trainset, valset, testset = dataset.train, dataset.val, dataset.test\n",
    "print(\"[I] Finished loading.\")"
   ]
  },
  {
   "cell_type": "markdown",
   "metadata": {},
   "source": [
    "### 超像素数据集：新冠肺炎（COVID19）CT数据集"
   ]
  },
  {
   "cell_type": "code",
   "execution_count": 11,
   "metadata": {},
   "outputs": [
    {
     "name": "stdout",
     "output_type": "stream",
     "text": [
      "[I] Loading data (notebook) ...\n",
      "[I] Loading dataset covid19...\n",
      "train, test, val sizes : 5734 690 690\n",
      "[I] Finished loading.\n",
      "[I] Data load time: 5.4745s\n",
      "[I] Finished loading.\n",
      "Original Dataset Statistics:\n",
      "\n",
      "Max nodes 150, Min nodes 111\n",
      "\n",
      "Mean no. of nodes 119.97062131009278, S.d. 1.55802672200766\n",
      "\n",
      "VISUALIZATIONS:\n",
      "Max nodes in consideration: 121\n"
     ]
    },
    {
     "data": {
      "image/png": "[encoded data removed]",
      "text/plain": [
       "<Figure size 864x360 with 3 Axes>"
      ]
     },
     "metadata": {
      "needs_background": "light"
     },
     "output_type": "display_data"
    }
   ],
   "source": [
    "visualize_superpixels_data('covid19')"
   ]
  }
 ],
 "metadata": {
  "kernelspec": {
   "display_name": "MultiGPUs",
   "language": "python",
   "name": "benchmark_gnn"
  },
  "language_info": {
   "codemirror_mode": {
    "name": "ipython",
    "version": 3
   },
   "file_extension": ".py",
   "mimetype": "text/x-python",
   "name": "python",
   "nbconvert_exporter": "python",
   "pygments_lexer": "ipython3",
   "version": "3.7.4"
  }
 },
 "nbformat": 4,
 "nbformat_minor": 4
}
